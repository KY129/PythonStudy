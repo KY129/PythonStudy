{
 "cells": [
  {
   "cell_type": "code",
   "execution_count": 119,
   "metadata": {},
   "outputs": [
    {
     "name": "stdout",
     "output_type": "stream",
     "text": [
      "5와 5가 같다\n"
     ]
    }
   ],
   "source": [
    "if 5 > 7 : \n",
    "    print(\"5가 7보다 크다\")\n",
    "elif 5 == 5:\n",
    "    print(\"5와 5가 같다\")\n",
    "else :\n",
    "    print(\"5가 7보다 작다\")"
   ]
  },
  {
   "cell_type": "code",
   "execution_count": 120,
   "metadata": {},
   "outputs": [],
   "source": [
    "while 0:\n",
    "    print(\"출력\")"
   ]
  },
  {
   "cell_type": "code",
   "execution_count": 121,
   "metadata": {},
   "outputs": [
    {
     "name": "stdout",
     "output_type": "stream",
     "text": [
      "출력0\n",
      "출력1\n",
      "출력2\n",
      "출력3\n",
      "출력4\n"
     ]
    }
   ],
   "source": [
    "a = True\n",
    "b = 0\n",
    "while a :\n",
    "    print(f\"출력{b}\")\n",
    "\n",
    "    b += 1 # 1증가씩\n",
    "    if b >= 5 : # 상태값 비교 0 >= 5, 1 >= 5 ... 5 >= 5 참\n",
    "        a = False # 5회전 했을 경우 a변수 종료"
   ]
  },
  {
   "cell_type": "code",
   "execution_count": 122,
   "metadata": {},
   "outputs": [
    {
     "name": "stdout",
     "output_type": "stream",
     "text": [
      "출력 0\n",
      "출력 1\n",
      "출력 2\n",
      "출력 3\n",
      "출력 4\n"
     ]
    }
   ],
   "source": [
    "b = 0\n",
    "while b < 5 :\n",
    "    print(f\"출력 {b}\")\n",
    "    b += 1"
   ]
  },
  {
   "cell_type": "code",
   "execution_count": 123,
   "metadata": {},
   "outputs": [],
   "source": [
    "# int : a = 1\n",
    "# int : b = 1\n",
    "\n",
    "#     a += 1\n",
    "#     b += 1\n",
    "#     if a >= 9 :\n",
    "#         print(a + \"*\" + b + \"=\" + (a + b))"
   ]
  },
  {
   "cell_type": "code",
   "execution_count": 1,
   "metadata": {},
   "outputs": [
    {
     "name": "stdout",
     "output_type": "stream",
     "text": [
      "1 * 1 = 1\n",
      "1 * 2 = 2\n",
      "1 * 3 = 3\n",
      "1 * 4 = 4\n",
      "1 * 5 = 5\n",
      "1 * 6 = 6\n",
      "1 * 7 = 7\n",
      "1 * 8 = 8\n",
      "1 * 9 = 9\n",
      "2 * 1 = 2\n",
      "2 * 2 = 4\n",
      "2 * 3 = 6\n",
      "2 * 4 = 8\n",
      "2 * 5 = 10\n",
      "2 * 6 = 12\n",
      "2 * 7 = 14\n",
      "2 * 8 = 16\n",
      "2 * 9 = 18\n",
      "3 * 1 = 3\n",
      "3 * 2 = 6\n",
      "3 * 3 = 9\n",
      "3 * 4 = 12\n",
      "3 * 5 = 15\n",
      "3 * 6 = 18\n",
      "3 * 7 = 21\n",
      "3 * 8 = 24\n",
      "3 * 9 = 27\n",
      "4 * 1 = 4\n",
      "4 * 2 = 8\n",
      "4 * 3 = 12\n",
      "4 * 4 = 16\n",
      "4 * 5 = 20\n",
      "4 * 6 = 24\n",
      "4 * 7 = 28\n",
      "4 * 8 = 32\n",
      "4 * 9 = 36\n",
      "5 * 1 = 5\n",
      "5 * 2 = 10\n",
      "5 * 3 = 15\n",
      "5 * 4 = 20\n",
      "5 * 5 = 25\n",
      "5 * 6 = 30\n",
      "5 * 7 = 35\n",
      "5 * 8 = 40\n",
      "5 * 9 = 45\n",
      "6 * 1 = 6\n",
      "6 * 2 = 12\n",
      "6 * 3 = 18\n",
      "6 * 4 = 24\n",
      "6 * 5 = 30\n",
      "6 * 6 = 36\n",
      "6 * 7 = 42\n",
      "6 * 8 = 48\n",
      "6 * 9 = 54\n",
      "7 * 1 = 7\n",
      "7 * 2 = 14\n",
      "7 * 3 = 21\n",
      "7 * 4 = 28\n",
      "7 * 5 = 35\n",
      "7 * 6 = 42\n",
      "7 * 7 = 49\n",
      "7 * 8 = 56\n",
      "7 * 9 = 63\n",
      "8 * 1 = 8\n",
      "8 * 2 = 16\n",
      "8 * 3 = 24\n",
      "8 * 4 = 32\n",
      "8 * 5 = 40\n",
      "8 * 6 = 48\n",
      "8 * 7 = 56\n",
      "8 * 8 = 64\n",
      "8 * 9 = 72\n",
      "9 * 1 = 9\n",
      "9 * 2 = 18\n",
      "9 * 3 = 27\n",
      "9 * 4 = 36\n",
      "9 * 5 = 45\n",
      "9 * 6 = 54\n",
      "9 * 7 = 63\n",
      "9 * 8 = 72\n",
      "9 * 9 = 81\n"
     ]
    }
   ],
   "source": [
    "## Q1. while문으로 구구단 1 ~ 9단까지 출력하시오\n",
    "## Q2 .while문으로 만든 구구단에서 짝수 단만 출력하시오.\n",
    "\n",
    "## Q1\n",
    "\n",
    "a = 1\n",
    "while a <= 9 :\n",
    "    b = 1\n",
    "    while b <= 9 :\n",
    "        print(f\"{a} * {b} = {a * b}\")\n",
    "        b += 1\n",
    "    a += 1\n",
    "\n",
    "## Q2\n",
    "\n",
    "# a = 1\n",
    "# while a <= 9 :\n",
    "#     if a % 2 == 0 :\n",
    "#         b = 1\n",
    "#         while b <= 9 :\n",
    "#             print(f\"{a} * {b} = {a * b}\")\n",
    "#             b += 1\n",
    "#     a += 1\n",
    "\n",
    "\n",
    "# a = 1\n",
    "# while a <= 9 :\n",
    "#     b = 1\n",
    "#     while b <= 9 :\n",
    "#         print(f\"{a} * {b} = {a * b}\")\n",
    "#         b += 1\n",
    "#     a += 1\n",
    "\n",
    "\n"
   ]
  },
  {
   "cell_type": "code",
   "execution_count": 11,
   "metadata": {},
   "outputs": [
    {
     "name": "stdout",
     "output_type": "stream",
     "text": [
      "2 * 1 = 2\n",
      "2 * 2 = 4\n",
      "2 * 3 = 6\n",
      "2 * 4 = 8\n",
      "2 * 5 = 10\n",
      "2 * 6 = 12\n",
      "2 * 7 = 14\n",
      "2 * 8 = 16\n",
      "2 * 9 = 18\n",
      "4 * 1 = 4\n",
      "4 * 2 = 8\n",
      "4 * 3 = 12\n",
      "4 * 4 = 16\n",
      "4 * 5 = 20\n",
      "4 * 6 = 24\n",
      "4 * 7 = 28\n",
      "4 * 8 = 32\n",
      "4 * 9 = 36\n",
      "6 * 1 = 6\n",
      "6 * 2 = 12\n",
      "6 * 3 = 18\n",
      "6 * 4 = 24\n",
      "6 * 5 = 30\n",
      "6 * 6 = 36\n",
      "6 * 7 = 42\n",
      "6 * 8 = 48\n",
      "6 * 9 = 54\n",
      "8 * 1 = 8\n",
      "8 * 2 = 16\n",
      "8 * 3 = 24\n",
      "8 * 4 = 32\n",
      "8 * 5 = 40\n",
      "8 * 6 = 48\n",
      "8 * 7 = 56\n",
      "8 * 8 = 64\n",
      "8 * 9 = 72\n"
     ]
    }
   ],
   "source": [
    "# a = 1\n",
    "# while a <= 9 :\n",
    "#     b = 1\n",
    "#     while b <= 9 :\n",
    "#         print(f\"{a} * {b} = {a * b}\")\n",
    "#         b += 1\n",
    "#     a += 1\n",
    "\n",
    "a = 1\n",
    "while a <= 9 :\n",
    "    if a % 2 == 0 :\n",
    "        b = 1\n",
    "        while b <= 9 :\n",
    "            print(f\"{a} * {b} = {a * b}\")\n",
    "            b += 1\n",
    "    a += 1\n",
    "    \n",
    "\n"
   ]
  },
  {
   "cell_type": "code",
   "execution_count": 40,
   "metadata": {},
   "outputs": [
    {
     "name": "stdout",
     "output_type": "stream",
     "text": [
      "안녕하세요. 자판기입니다.\n",
      "원하는 음료의 번호를 입력하세요. (종료하려면 EXIT 입력)\n",
      "1. 콜라 : 2400원\n",
      "2. 환타 : 2000원\n",
      "3. 밀키스 : 1800원\n",
      "4. 포카리 : 1600원\n",
      "5. 사이다 : 2200원\n",
      "6. 갈아만든 배 : 2100원\n",
      "  EXIT\n"
     ]
    },
    {
     "ename": "TypeError",
     "evalue": "'<=' not supported between instances of 'str' and 'int'",
     "output_type": "error",
     "traceback": [
      "\u001b[1;31m---------------------------------------------------------------------------\u001b[0m",
      "\u001b[1;31mTypeError\u001b[0m                                 Traceback (most recent call last)",
      "Cell \u001b[1;32mIn[40], line 16\u001b[0m\n\u001b[0;32m     13\u001b[0m         \u001b[38;5;28mprint\u001b[39m(\u001b[38;5;124mf\u001b[39m\u001b[38;5;124m\"\u001b[39m\u001b[38;5;132;01m{\u001b[39;00m\u001b[38;5;124m\"\u001b[39m\u001b[38;5;124m \u001b[39m\u001b[38;5;124m\"\u001b[39m\u001b[38;5;132;01m}\u001b[39;00m\u001b[38;5;124m \u001b[39m\u001b[38;5;132;01m{\u001b[39;00m음료[i]\u001b[38;5;132;01m}\u001b[39;00m\u001b[38;5;124m\"\u001b[39m)\n\u001b[0;32m     15\u001b[0m i \u001b[38;5;241m=\u001b[39m \u001b[38;5;28minput\u001b[39m()\n\u001b[1;32m---> 16\u001b[0m \u001b[38;5;28;01mif\u001b[39;00m \u001b[43mi\u001b[49m\u001b[43m \u001b[49m\u001b[38;5;241;43m<\u001b[39;49m\u001b[38;5;241;43m=\u001b[39;49m\u001b[43m \u001b[49m\u001b[38;5;241;43m8\u001b[39;49m:\n\u001b[0;32m     17\u001b[0m     \u001b[38;5;28mprint\u001b[39m(\u001b[38;5;124mf\u001b[39m\u001b[38;5;124m\"\u001b[39m\u001b[38;5;132;01m{\u001b[39;00m\u001b[38;5;124m\"\u001b[39m\u001b[38;5;124m음료[i]\u001b[39m\u001b[38;5;124m\"\u001b[39m\u001b[38;5;132;01m}\u001b[39;00m\u001b[38;5;124m를 골라주셨습니다.\u001b[39m\u001b[38;5;124m\"\u001b[39m)\n\u001b[0;32m     18\u001b[0m     \u001b[38;5;28mprint\u001b[39m(\u001b[38;5;124mf\u001b[39m\u001b[38;5;124m\"\u001b[39m\u001b[38;5;132;01m{\u001b[39;00m\u001b[38;5;124m\"\u001b[39m\u001b[38;5;124m금액\u001b[39m\u001b[38;5;124m\"\u001b[39m\u001b[38;5;132;01m:\u001b[39;00m\u001b[38;5;124m   음료가격[i] 원\u001b[39m\u001b[38;5;132;01m}\u001b[39;00m\u001b[38;5;124m\"\u001b[39m)\n",
      "\u001b[1;31mTypeError\u001b[0m: '<=' not supported between instances of 'str' and 'int'"
     ]
    }
   ],
   "source": [
    "음료 = (\"콜라\", \"환타\", \"밀키스\", \"포카리\", \"사이다\", \"갈아만든 배\", \"EXIT\")\n",
    "음료가격 = (2400, 2000, 1800, 1600, 2200, 2100, \"\")\n",
    "\n",
    "print(\"안녕하세요. 자판기입니다.\")\n",
    "\n",
    "while True :        \n",
    "    a = input(\"시작하려면 아무 버튼을 눌러주세요.\")\n",
    "    print(\"원하는 음료의 번호를 입력하세요. (종료하려면 EXIT 입력)\")\n",
    "    for i in range(len(음료)):\n",
    "        if i < 6 :\n",
    "            print(f\"{i+1}. {음료[i]} : {음료가격[i]}원\")\n",
    "        else:\n",
    "            print(f\"{\" \"} {음료[i]}\")\n",
    "    \n",
    "    i = input()\n",
    "    if i <= 8:\n",
    "        print(f\"{\"음료[i]\"}를 골라주셨습니다.\")\n",
    "        print(f\"{\"금액\":   음료가격[i] 원}\")\n",
    "\n",
    "\n",
    "    a = input()        \n",
    "    if a.upper() == \"EXIT\":\n",
    "        print(\"감사합니다.\")\n",
    "        break\n",
    "    \n",
    "# while 0 :     # True\n",
    "#     선택 = print(\"음료를 선택해주세요.\")\n",
    "#     for i in 음료[i]:\n",
    "#         print(f\"{i+1}. {음료[i]} - {음료가격[i]}원\")\n",
    "#     print(\"원하는 음료의 번호를 입력하세요. (종료하려면 EXIT 입력)\")\n",
    "\n",
    "# while 1:\n",
    "#     print(\"ㅎㅇㅎㅇ\")\n",
    "#     a = input()\n",
    "#     if a.upper() == \"EXIT\":\n",
    "#         break"
   ]
  }
 ],
 "metadata": {
  "kernelspec": {
   "display_name": "Python 3",
   "language": "python",
   "name": "python3"
  },
  "language_info": {
   "codemirror_mode": {
    "name": "ipython",
    "version": 3
   },
   "file_extension": ".py",
   "mimetype": "text/x-python",
   "name": "python",
   "nbconvert_exporter": "python",
   "pygments_lexer": "ipython3",
   "version": "3.13.0"
  }
 },
 "nbformat": 4,
 "nbformat_minor": 2
}
