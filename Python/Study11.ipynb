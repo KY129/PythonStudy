{
 "cells": [
  {
   "cell_type": "code",
   "execution_count": 10,
   "metadata": {},
   "outputs": [
    {
     "data": {
      "text/plain": [
       "True"
      ]
     },
     "execution_count": 10,
     "metadata": {},
     "output_type": "execute_result"
    }
   ],
   "source": [
    "a = True\n",
    "a"
   ]
  },
  {
   "cell_type": "code",
   "execution_count": 12,
   "metadata": {},
   "outputs": [
    {
     "data": {
      "text/plain": [
       "int"
      ]
     },
     "execution_count": 12,
     "metadata": {},
     "output_type": "execute_result"
    }
   ],
   "source": [
    "a = 1\n",
    "type(a)"
   ]
  },
  {
   "cell_type": "code",
   "execution_count": 26,
   "metadata": {},
   "outputs": [
    {
     "name": "stdout",
     "output_type": "stream",
     "text": [
      "3\n",
      "3\n",
      "d\n",
      "d\n"
     ]
    }
   ],
   "source": [
    "a = \"abcdef\"\n",
    "print (a.index(\"d\"))\n",
    "print (a.find(\"d\"))\n",
    "print (a[3])\n",
    "print (a[3:-2])"
   ]
  },
  {
   "cell_type": "code",
   "execution_count": 27,
   "metadata": {},
   "outputs": [
    {
     "data": {
      "text/plain": [
       "'abc'"
      ]
     },
     "execution_count": 27,
     "metadata": {},
     "output_type": "execute_result"
    }
   ],
   "source": [
    "b = \"ab%s\" % \"c\"\n",
    "b"
   ]
  },
  {
   "cell_type": "code",
   "execution_count": 30,
   "metadata": {},
   "outputs": [
    {
     "data": {
      "text/plain": [
       "'ab3'"
      ]
     },
     "execution_count": 30,
     "metadata": {},
     "output_type": "execute_result"
    }
   ],
   "source": [
    "b = \"ab%d\" % 3\n",
    "b"
   ]
  },
  {
   "cell_type": "code",
   "execution_count": 38,
   "metadata": {},
   "outputs": [
    {
     "data": {
      "text/plain": [
       "'ab3'"
      ]
     },
     "execution_count": 38,
     "metadata": {},
     "output_type": "execute_result"
    }
   ],
   "source": [
    "c = \"ab\" + \"3\"\n",
    "c = \"ab\" + str(3)\n",
    "c"
   ]
  },
  {
   "cell_type": "code",
   "execution_count": 42,
   "metadata": {},
   "outputs": [
    {
     "data": {
      "text/plain": [
       "'ab1'"
      ]
     },
     "execution_count": 42,
     "metadata": {},
     "output_type": "execute_result"
    }
   ],
   "source": [
    "c = \"ab\"+\"{0}\".format(1)\n",
    "c"
   ]
  },
  {
   "cell_type": "code",
   "execution_count": 44,
   "metadata": {},
   "outputs": [
    {
     "data": {
      "text/plain": [
       "'ab3'"
      ]
     },
     "execution_count": 44,
     "metadata": {},
     "output_type": "execute_result"
    }
   ],
   "source": [
    "c = f\"ab{3}\"\n",
    "c"
   ]
  },
  {
   "cell_type": "code",
   "execution_count": 54,
   "metadata": {},
   "outputs": [
    {
     "data": {
      "text/plain": [
       "'a/b/c/d/e/f'"
      ]
     },
     "execution_count": 54,
     "metadata": {},
     "output_type": "execute_result"
    }
   ],
   "source": [
    "b = \"/\".join(a)\n",
    "b"
   ]
  },
  {
   "cell_type": "code",
   "execution_count": 57,
   "metadata": {},
   "outputs": [
    {
     "data": {
      "text/plain": [
       "['a/b/c/d/e/f']"
      ]
     },
     "execution_count": 57,
     "metadata": {},
     "output_type": "execute_result"
    }
   ],
   "source": [
    "c = b.split(\",\")\n",
    "c"
   ]
  },
  {
   "cell_type": "code",
   "execution_count": 93,
   "metadata": {},
   "outputs": [
    {
     "data": {
      "text/plain": [
       "['Feeling', 'grateful', 'and', 'content', 'today']"
      ]
     },
     "execution_count": 93,
     "metadata": {},
     "output_type": "execute_result"
    }
   ],
   "source": [
    "a = \"Feeling grateful and content today\"\n",
    "# Q1 위의 a 변수에 들어 있는 문자 중에 'n'이 몇번 들어 있는지 출력하시오.\n",
    "b = a.count(\"n\")\n",
    "b\n",
    "# Q2 위의 a 변수에 들어 있는 내용 중에 빈칸을 이용하여 조각을 내시오.\n",
    "c = a.split(\" \")\n",
    "c"
   ]
  },
  {
   "cell_type": "code",
   "execution_count": null,
   "metadata": {},
   "outputs": [
    {
     "name": "stdout",
     "output_type": "stream",
     "text": [
      "['t', 'o', 'd', 'a', 'y']\n",
      "['Feeling : 2', 'grateful : 1', 'and : 1', 'content : 2', 'today : 1']\n"
     ]
    }
   ],
   "source": [
    "# Q3 위의 조각난 문자열을 이용하여 가장 많이 사용되는 문자는 무엇일까요?\n",
    "\n",
    "# print(t)\n",
    "\n",
    "\n",
    "a = \"Feeling grateful and content today\"\n",
    "arr = a.split(\" \")\n",
    "\n",
    "arr = a.split(\" \")\n",
    "arr\n",
    "strs = []\n",
    "for txt in arr:\n",
    "    t = \",\".join(txt).split(\",\")\n",
    "    ts = []\n",
    "    for s in t:\n",
    "        if s not in ts:\n",
    "            ts.append(s)\n",
    "    b = 0         \n",
    "    for s in ts:               \n",
    "        if b < txt.count(s):\n",
    "            b = txt.count(s)\n",
    "    strs.append(f\"{txt} : {b}\")\n",
    "print(strs)\n",
    "\n",
    "\n",
    "\n",
    "# for txt in arr:\n",
    "#     print(txt)"
   ]
  },
  {
   "cell_type": "code",
   "execution_count": null,
   "metadata": {},
   "outputs": [],
   "source": []
  }
 ],
 "metadata": {
  "kernelspec": {
   "display_name": "Python 3",
   "language": "python",
   "name": "python3"
  },
  "language_info": {
   "codemirror_mode": {
    "name": "ipython",
    "version": 3
   },
   "file_extension": ".py",
   "mimetype": "text/x-python",
   "name": "python",
   "nbconvert_exporter": "python",
   "pygments_lexer": "ipython3",
   "version": "3.13.0"
  }
 },
 "nbformat": 4,
 "nbformat_minor": 2
}
