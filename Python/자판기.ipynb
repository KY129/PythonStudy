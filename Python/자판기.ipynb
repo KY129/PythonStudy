{
 "cells": [
  {
   "cell_type": "code",
   "execution_count": 2,
   "metadata": {},
   "outputs": [
    {
     "name": "stdout",
     "output_type": "stream",
     "text": [
      "안녕하세요. 자판기입니다.\n",
      "원하는 음료의 번호를 입력하세요. (종료하려면 EXIT 입력)\n",
      "1. 콜라 : 2400원\n",
      "2. 환타 : 2000원\n",
      "3. 밀키스 : 1800원\n",
      "4. 포카리 : 1600원\n",
      "5. 사이다 : 2200원\n",
      "6. 갈아만든 배 : 2100원\n",
      "  EXIT\n",
      "잘못된 번호입니다. 다시 입력하시려면 0 을 눌러주시거나 종료하려면 EXIT 를 입력해주세요.\n",
      "원하는 음료의 번호를 입력하세요. (종료하려면 EXIT 입력)\n",
      "1. 콜라 : 2400원\n",
      "2. 환타 : 2000원\n",
      "3. 밀키스 : 1800원\n",
      "4. 포카리 : 1600원\n",
      "5. 사이다 : 2200원\n",
      "6. 갈아만든 배 : 2100원\n",
      "  EXIT\n",
      "잘못된 번호입니다. 다시 입력하시려면 0 을 눌러주시거나 종료하려면 EXIT 를 입력해주세요.\n",
      "원하는 음료의 번호를 입력하세요. (종료하려면 EXIT 입력)\n",
      "1. 콜라 : 2400원\n",
      "2. 환타 : 2000원\n",
      "3. 밀키스 : 1800원\n",
      "4. 포카리 : 1600원\n",
      "5. 사이다 : 2200원\n",
      "6. 갈아만든 배 : 2100원\n",
      "  EXIT\n",
      "콜라를 골라주셨습니다.\n",
      "금액: 2400 원\n",
      "다시 입력하시려면 0 을 눌러주시거나 종료하려면 EXIT 를 입력해주세요.\n",
      "감사합니다.\n"
     ]
    }
   ],
   "source": [
    "음료 = (\"콜라\", \"환타\", \"밀키스\", \"포카리\", \"사이다\", \"갈아만든 배\", \"EXIT\")\n",
    "음료가격 = (2400, 2000, 1800, 1600, 2200, 2100, \"\")\n",
    "\n",
    "print(\"안녕하세요. 자판기입니다.\")\n",
    "\n",
    "while True :        \n",
    "    a = input(\"시작하려면 아무 버튼을 눌러주세요.\")\n",
    "    if a != \"\":\n",
    "\n",
    "        print(\"원하는 음료의 번호를 입력하세요. (종료하려면 EXIT 입력)\")\n",
    "        for i in range(len(음료)):\n",
    "            if i < 6 :\n",
    "                print(f\"{i+1}. {음료[i]} : {음료가격[i]}원\")\n",
    "            else:\n",
    "                print(f\"{\" \"} {음료[i]}\")\n",
    "\n",
    "        c = input()\n",
    "\n",
    "        if c.isdigit(): # isdigit는 숫자 판별. 검색해서 알았습니다.\n",
    "            d = int(c)\n",
    "            if 1 <= d <= 6 :\n",
    "                print(f\"{음료[d-1]}를 골라주셨습니다.\")\n",
    "                print(f\"금액: {음료가격[d-1]} 원\")\n",
    "                print(f\"다시 입력하시려면 0 을 눌러주시거나 종료하려면 EXIT 를 입력해주세요.\")\n",
    "\n",
    "            else:\n",
    "                print(\"잘못된 번호입니다. 다시 입력하시려면 0 을 눌러주시거나 종료하려면 EXIT 를 입력해주세요.\")\n",
    "\n",
    "            b = input()        \n",
    "            if b.upper() == \"EXIT\":\n",
    "                print(\"감사합니다.\")\n",
    "                break    \n",
    "\n",
    "    b = input()        \n",
    "    if b.upper() == \"EXIT\":\n",
    "        print(\"감사합니다.\")\n",
    "        break"
   ]
  }
 ],
 "metadata": {
  "kernelspec": {
   "display_name": "Python 3",
   "language": "python",
   "name": "python3"
  },
  "language_info": {
   "codemirror_mode": {
    "name": "ipython",
    "version": 3
   },
   "file_extension": ".py",
   "mimetype": "text/x-python",
   "name": "python",
   "nbconvert_exporter": "python",
   "pygments_lexer": "ipython3",
   "version": "3.13.0"
  }
 },
 "nbformat": 4,
 "nbformat_minor": 2
}
