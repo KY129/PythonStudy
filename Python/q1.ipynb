{
 "cells": [
  {
   "cell_type": "code",
   "execution_count": 62,
   "metadata": {},
   "outputs": [
    {
     "name": "stdout",
     "output_type": "stream",
     "text": [
      "['X', 'X', 'O', 'X', 'X']\n",
      "['X', 'O', 'O', 'O', 'X']\n",
      "['O', 'O', 'O', 'O', 'O']\n",
      "['X', 'O', 'O', 'O', 'X']\n",
      "['X', 'X', 'O', 'X', 'X']\n"
     ]
    }
   ],
   "source": [
    "a = [[0] * 5 for _ in range(5)]\n",
    "\n",
    "a[0][2] = \"O\"\n",
    "a[1][1] = \"O\"\n",
    "a[1][2] = \"O\"\n",
    "a[1][3] = \"O\"\n",
    "a[2][0] = \"O\"\n",
    "a[2][1] = \"O\"\n",
    "a[2][2] = \"O\"\n",
    "a[2][3] = \"O\"\n",
    "a[2][4] = \"O\"\n",
    "a[3][1] = \"O\"\n",
    "a[3][2] = \"O\"\n",
    "a[3][3] = \"O\"\n",
    "a[4][2] = \"O\"\n",
    "\n",
    "a[0][0] = \"X\"\n",
    "a[0][1] = \"X\"\n",
    "a[0][3] = \"X\"\n",
    "a[0][4] = \"X\"\n",
    "a[1][0] = \"X\"\n",
    "a[1][4] = \"X\"\n",
    "a[3][0] = \"X\"\n",
    "a[3][4] = \"X\"\n",
    "a[4][0] = \"X\"\n",
    "a[4][1] = \"X\"\n",
    "a[4][3] = \"X\"\n",
    "a[4][4] = \"X\"\n",
    "\n",
    "for i in range(5):\n",
    "  print(a[i])\n",
    "\n",
    "\n",
    "# a = [\n",
    "#     ['X', 'X', 'O', 'X', 'X'],\n",
    "#     ['X', 'O', 'O', 'O', 'X'],\n",
    "#     ['O', 'O', 'O', 'O', 'O'],\n",
    "#     ['X', 'O', 'O', 'O', 'X'],\n",
    "#     ['X', 'X', 'O', 'X', 'X']\n",
    "# ]\n",
    "\n",
    "# for b in a:\n",
    "    \n",
    "#     print(b)\n"
   ]
  }
 ],
 "metadata": {
  "kernelspec": {
   "display_name": "Python 3",
   "language": "python",
   "name": "python3"
  },
  "language_info": {
   "codemirror_mode": {
    "name": "ipython",
    "version": 3
   },
   "file_extension": ".py",
   "mimetype": "text/x-python",
   "name": "python",
   "nbconvert_exporter": "python",
   "pygments_lexer": "ipython3",
   "version": "3.13.0"
  }
 },
 "nbformat": 4,
 "nbformat_minor": 2
}
