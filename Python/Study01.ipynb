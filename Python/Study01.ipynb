{
 "cells": [
  {
   "cell_type": "code",
   "execution_count": 9,
   "metadata": {},
   "outputs": [
    {
     "name": "stdout",
     "output_type": "stream",
     "text": [
      "메롱\n"
     ]
    },
    {
     "data": {
      "text/plain": [
       "25"
      ]
     },
     "execution_count": 9,
     "metadata": {},
     "output_type": "execute_result"
    }
   ],
   "source": [
    "print(\"메롱\")\n",
    "5 * 5"
   ]
  },
  {
   "cell_type": "code",
   "execution_count": 29,
   "metadata": {},
   "outputs": [
    {
     "data": {
      "text/plain": [
       "'일일일일일일일일일일일일일일일일일일일일일일일일일일일일일일일일일일일일일일일일일일일일일일일일일일일일일일일일일일일일일일일일일일일일일일일일일일일일일일일일일일일일일일일일일일일일일일일일일일일일'"
      ]
     },
     "execution_count": 29,
     "metadata": {},
     "output_type": "execute_result"
    }
   ],
   "source": [
    "a = 1\n",
    "a\n",
    "a * 100\n",
    "a = \"일\"\n",
    "a\n",
    "a * 100"
   ]
  },
  {
   "cell_type": "code",
   "execution_count": 35,
   "metadata": {},
   "outputs": [
    {
     "data": {
      "text/plain": [
       "'일삼'"
      ]
     },
     "execution_count": 35,
     "metadata": {},
     "output_type": "execute_result"
    }
   ],
   "source": [
    "a = 5\n",
    "b = 3\n",
    "a + b\n",
    "a = \"일\"\n",
    "b = \"삼\"\n",
    "a + b"
   ]
  },
  {
   "cell_type": "code",
   "execution_count": 37,
   "metadata": {},
   "outputs": [
    {
     "data": {
      "text/plain": [
       "1"
      ]
     },
     "execution_count": 37,
     "metadata": {},
     "output_type": "execute_result"
    }
   ],
   "source": [
    "10 % 3\n"
   ]
  },
  {
   "cell_type": "code",
   "execution_count": 41,
   "metadata": {},
   "outputs": [
    {
     "data": {
      "text/plain": [
       "3"
      ]
     },
     "execution_count": 41,
     "metadata": {},
     "output_type": "execute_result"
    }
   ],
   "source": [
    "10 // 3"
   ]
  },
  {
   "cell_type": "code",
   "execution_count": 47,
   "metadata": {},
   "outputs": [
    {
     "data": {
      "text/plain": [
       "4"
      ]
     },
     "execution_count": 47,
     "metadata": {},
     "output_type": "execute_result"
    }
   ],
   "source": [
    "a = 'i\\'am'\n",
    "a\n",
    "len(a)"
   ]
  },
  {
   "cell_type": "code",
   "execution_count": 73,
   "metadata": {},
   "outputs": [
    {
     "data": {
      "text/plain": [
       "'DEF'"
      ]
     },
     "execution_count": 73,
     "metadata": {},
     "output_type": "execute_result"
    }
   ],
   "source": [
    "a = 'ABCDEF'\n",
    "a[4]\n",
    "a[-1]\n",
    "a[3:]"
   ]
  },
  {
   "cell_type": "code",
   "execution_count": 82,
   "metadata": {},
   "outputs": [
    {
     "data": {
      "text/plain": [
       "'no: 3'"
      ]
     },
     "execution_count": 82,
     "metadata": {},
     "output_type": "execute_result"
    }
   ],
   "source": [
    "a = 'no: %d' % 3\n",
    "a"
   ]
  },
  {
   "cell_type": "code",
   "execution_count": 85,
   "metadata": {},
   "outputs": [
    {
     "data": {
      "text/plain": [
       "'no: 3, age: 7'"
      ]
     },
     "execution_count": 85,
     "metadata": {},
     "output_type": "execute_result"
    }
   ],
   "source": [
    "i1 = 3\n",
    "i2 =7\n",
    "a = f'no: {i1}, age: {i2}'\n",
    "a"
   ]
  },
  {
   "cell_type": "code",
   "execution_count": 87,
   "metadata": {},
   "outputs": [
    {
     "data": {
      "text/plain": [
       "'no : 4'"
      ]
     },
     "execution_count": 87,
     "metadata": {},
     "output_type": "execute_result"
    }
   ],
   "source": [
    "a = 'no : {0}'.format(4)\n",
    "a"
   ]
  },
  {
   "cell_type": "code",
   "execution_count": 90,
   "metadata": {},
   "outputs": [
    {
     "data": {
      "text/plain": [
       "3"
      ]
     },
     "execution_count": 90,
     "metadata": {},
     "output_type": "execute_result"
    }
   ],
   "source": [
    "a = 'aAdbbCCdd'\n",
    "a.count('d')"
   ]
  },
  {
   "cell_type": "code",
   "execution_count": 92,
   "metadata": {},
   "outputs": [
    {
     "data": {
      "text/plain": [
       "7"
      ]
     },
     "execution_count": 92,
     "metadata": {},
     "output_type": "execute_result"
    }
   ],
   "source": [
    "a = \"Python is the best choice\"\n",
    "a.find('i')"
   ]
  },
  {
   "cell_type": "code",
   "execution_count": 94,
   "metadata": {},
   "outputs": [
    {
     "data": {
      "text/plain": [
       "8"
      ]
     },
     "execution_count": 94,
     "metadata": {},
     "output_type": "execute_result"
    }
   ],
   "source": [
    "a = \"Life is too short\"\n",
    "a.index('t')"
   ]
  },
  {
   "cell_type": "code",
   "execution_count": 96,
   "metadata": {},
   "outputs": [
    {
     "data": {
      "text/plain": [
       "\"Life 'am too short\""
      ]
     },
     "execution_count": 96,
     "metadata": {},
     "output_type": "execute_result"
    }
   ],
   "source": [
    "a = \"Life is too short\"\n",
    "b = a.replace('is', \"'am\")\n",
    "b"
   ]
  },
  {
   "cell_type": "code",
   "execution_count": 1,
   "metadata": {},
   "outputs": [
    {
     "data": {
      "text/plain": [
       "'too'"
      ]
     },
     "execution_count": 1,
     "metadata": {},
     "output_type": "execute_result"
    }
   ],
   "source": [
    "a = \"Life is too short\"\n",
    "a.split(' ')[2]"
   ]
  },
  {
   "cell_type": "code",
   "execution_count": 3,
   "metadata": {},
   "outputs": [
    {
     "name": "stdout",
     "output_type": "stream",
     "text": [
      "i값: 1\n",
      "i값: 2\n",
      "i값: 3\n",
      "i값: 4\n",
      "i값: 5\n",
      "i값: 6\n",
      "i값: 7\n",
      "i값: 8\n",
      "i값: 9\n",
      "반복문 종료\n"
     ]
    }
   ],
   "source": [
    "i = 1\n",
    "while i < 10:\n",
    "    print(\"i값: \" + str(i))\n",
    "    i = i + 1\n",
    "print(\"반복문 종료\")\n"
   ]
  },
  {
   "cell_type": "code",
   "execution_count": 42,
   "metadata": {},
   "outputs": [
    {
     "name": "stdout",
     "output_type": "stream",
     "text": [
      "2 * 1 = 2\n",
      "2 * 2 = 4\n",
      "2 * 3 = 6\n",
      "2 * 4 = 8\n",
      "2 * 5 = 10\n",
      "2 * 6 = 12\n",
      "2 * 7 = 14\n",
      "2 * 8 = 16\n",
      "2 * 9 = 18\n",
      "4 * 1 = 4\n",
      "4 * 2 = 8\n",
      "4 * 3 = 12\n",
      "4 * 4 = 16\n",
      "4 * 5 = 20\n",
      "4 * 6 = 24\n",
      "4 * 7 = 28\n",
      "4 * 8 = 32\n",
      "4 * 9 = 36\n",
      "6 * 1 = 6\n",
      "6 * 2 = 12\n",
      "6 * 3 = 18\n",
      "6 * 4 = 24\n",
      "6 * 5 = 30\n",
      "6 * 6 = 36\n",
      "6 * 7 = 42\n",
      "6 * 8 = 48\n",
      "6 * 9 = 54\n",
      "8 * 1 = 8\n",
      "8 * 2 = 16\n",
      "8 * 3 = 24\n",
      "8 * 4 = 32\n",
      "8 * 5 = 40\n",
      "8 * 6 = 48\n",
      "8 * 7 = 56\n",
      "8 * 8 = 64\n",
      "8 * 9 = 72\n",
      "반복문 종료\n"
     ]
    }
   ],
   "source": [
    "# i = 1\n",
    "# while i < 10:\n",
    "#     if  i % 2 == 1 :\n",
    "\n",
    "#         j = 1\n",
    "#         while j < 10:\n",
    "#             print(f\"{i} * {j} = {i * j}\" )\n",
    "#             j = j + 1\n",
    "#     i = i + 1\n",
    "# print(\"반복문 종료\")\n",
    "\n",
    "\n",
    "i = 1\n",
    "while i < 10:\n",
    "    if i % 2 == 0:\n",
    "        j = 1\n",
    "        while j < 10:\n",
    "            print(f\"{i} * {j} = {i * j}\")\n",
    "            j = j + 1\n",
    "    i = i + 1        \n",
    "\n",
    "print(\"반복문 종료\")\n",
    "\n",
    "\n",
    "\n",
    "\n",
    "\n",
    "\n",
    "\n"
   ]
  },
  {
   "cell_type": "code",
   "execution_count": 43,
   "metadata": {},
   "outputs": [
    {
     "name": "stdout",
     "output_type": "stream",
     "text": [
      "[['1 * 1 = 1', '1 * 2 = 2', '1 * 3 = 3', '1 * 4 = 4', '1 * 5 = 5', '1 * 6 = 6', '1 * 7 = 7', '1 * 8 = 8', '1 * 9 = 9'], 1, ['3 * 1 = 3', '3 * 2 = 6', '3 * 3 = 9', '3 * 4 = 12', '3 * 5 = 15', '3 * 6 = 18', '3 * 7 = 21', '3 * 8 = 24', '3 * 9 = 27'], 1, ['5 * 1 = 5', '5 * 2 = 10', '5 * 3 = 15', '5 * 4 = 20', '5 * 5 = 25', '5 * 6 = 30', '5 * 7 = 35', '5 * 8 = 40', '5 * 9 = 45'], 1, ['7 * 1 = 7', '7 * 2 = 14', '7 * 3 = 21', '7 * 4 = 28', '7 * 5 = 35', '7 * 6 = 42', '7 * 7 = 49', '7 * 8 = 56', '7 * 9 = 63'], 1, ['9 * 1 = 9', '9 * 2 = 18', '9 * 3 = 27', '9 * 4 = 36', '9 * 5 = 45', '9 * 6 = 54', '9 * 7 = 63', '9 * 8 = 72', '9 * 9 = 81']]\n",
      "반복문 종료\n"
     ]
    }
   ],
   "source": [
    "arr1 = [1] * (9)\n",
    "\n",
    "i = 1\n",
    "while i < 10:\n",
    "    if i % 2 == 1 :\n",
    "        j = 1\n",
    "        arr2 = [0] * (9)\n",
    "        while j < 10:\n",
    "            # print(i * j)\n",
    "            arr2[j - 1] = f\"{i} * {j} = {i * j}\"\n",
    "            j = j + 1\n",
    "        arr1[i - 1] = arr2\n",
    "    i = i + 1\n",
    "print(arr1)\n",
    "print(\"반복문 종료\")\n",
    "\n",
    "\n",
    "# arr1 = [0] * (9)\n",
    "\n",
    "# i = 1\n",
    "# while i < 10:\n",
    "#     if i % 2 != 0:\n",
    "#         j = 1\n",
    "#         arr2 = [0] * (9)\n",
    "#         while j < 10:\n",
    "#             arr2[j - 1] = f\"{i} * {j} = {i * j}\"\n",
    "#             j = j + 1\n",
    "#         arr1[i - 1] = arr2\n",
    "#     i = i + 1\n",
    "# print(arr1)\n",
    "# print(\"반복문 종료\")\n",
    "\n"
   ]
  },
  {
   "cell_type": "code",
   "execution_count": 71,
   "metadata": {},
   "outputs": [
    {
     "name": "stdout",
     "output_type": "stream",
     "text": [
      "☆☆★☆☆\n",
      "☆★★★☆\n",
      "★★★★★\n",
      "☆★★★☆\n",
      "☆☆★☆☆\n"
     ]
    }
   ],
   "source": [
    "i = 1\n",
    "while i < 6:\n",
    "    j = 1\n",
    "    b = \"\"\n",
    "    while j < 6:\n",
    "        if i == 3:\n",
    "            b = b + \"★\"\n",
    "        else:\n",
    "            if i == 1 and j == 3 or i == 5 and j == 3:\n",
    "                b = b + \"★\"\n",
    "            else:\n",
    "                if (i == 2 and (j == 2 or j == 3 or j == 4)) or (i == 4 and (j == 2 or j == 3 or j == 4)):\n",
    "                    b = b + \"★\"\n",
    "                else:\n",
    "                    b = b + \"☆\"            \n",
    "        j = j + 1\n",
    "    print(b)\n",
    "    i = i + 1\n",
    "\n"
   ]
  },
  {
   "cell_type": "code",
   "execution_count": 79,
   "metadata": {},
   "outputs": [
    {
     "name": "stdout",
     "output_type": "stream",
     "text": [
      "★☆☆☆☆☆☆☆☆★\n",
      "☆★☆☆☆☆☆☆★☆\n",
      "☆☆★☆☆☆☆★☆☆\n",
      "☆☆☆★☆☆★☆☆☆\n",
      "☆☆☆☆★★☆☆☆☆\n",
      "☆☆☆☆★★☆☆☆☆\n",
      "☆☆☆★☆☆★☆☆☆\n",
      "☆☆★☆☆☆☆★☆☆\n",
      "☆★☆☆☆☆☆☆★☆\n",
      "★☆☆☆☆☆☆☆☆★\n"
     ]
    }
   ],
   "source": [
    "i = 1\n",
    "while i < 11:\n",
    "    j = 1\n",
    "    b = \"\"\n",
    "    while j < 11:\n",
    "        if(i == 1 and (j == 1 or j == 10)):\n",
    "            b = b + \"★\"\n",
    "        else:\n",
    "            if(i == 2 and (j == 2 or j == 9) or i == 3 and (j == 3 or j == 8) or i == 4 and (j == 4 or j == 7) or i == 5 and (j == 5 or j == 6)):\n",
    "                b = b + \"★\"\n",
    "            else:\n",
    "                if(i == 6 and (j == 6 or j == 5) or i == 7 and (j == 7 or j == 4) or i == 8 and (j == 8 or j == 3) or i == 9 and (j == 9 or j == 2) or i == 10 and (j == 10 or j == 1)):\n",
    "                    b = b + \"★\"\n",
    "                else: \n",
    "                    b = b + \"☆\"\n",
    "        j = j + 1\n",
    "    i = i + 1\n",
    "    print(b)\n",
    "    \n"
   ]
  },
  {
   "cell_type": "code",
   "execution_count": 94,
   "metadata": {},
   "outputs": [
    {
     "name": "stdout",
     "output_type": "stream",
     "text": [
      "★☆☆☆☆☆☆☆☆★\n",
      "☆★☆☆☆☆☆☆★☆\n",
      "☆☆★☆☆☆☆★☆☆\n",
      "☆☆☆★☆☆★☆☆☆\n",
      "☆☆☆☆★★☆☆☆☆\n",
      "☆☆☆☆★★☆☆☆☆\n",
      "☆☆☆★☆☆★☆☆☆\n",
      "☆☆★☆☆☆☆★☆☆\n",
      "☆★☆☆☆☆☆☆★☆\n",
      "★☆☆☆☆☆☆☆☆★\n"
     ]
    }
   ],
   "source": [
    "i = 1\n",
    "while i < 11:\n",
    "    j = 1\n",
    "    b = \"\"\n",
    "    while j < 11:\n",
    "        if i == j:\n",
    "            b = b + \"★\"\n",
    "        else:\n",
    "            if(11 - i) == j: \n",
    "                b = b + \"★\"\n",
    "            else:\n",
    "                b = b + \"☆\"       \n",
    "        j = j + 1\n",
    "    i = i + 1\n",
    "    print(b)"
   ]
  },
  {
   "cell_type": "code",
   "execution_count": 100,
   "metadata": {},
   "outputs": [
    {
     "data": {
      "text/plain": [
       "'Life is too short, You need Python'"
      ]
     },
     "execution_count": 100,
     "metadata": {},
     "output_type": "execute_result"
    }
   ],
   "source": [
    "a = \"Life is too short, You need Python\"\n",
    "a[:]\n"
   ]
  }
 ],
 "metadata": {
  "kernelspec": {
   "display_name": "Python 3",
   "language": "python",
   "name": "python3"
  },
  "language_info": {
   "codemirror_mode": {
    "name": "ipython",
    "version": 3
   },
   "file_extension": ".py",
   "mimetype": "text/x-python",
   "name": "python",
   "nbconvert_exporter": "python",
   "pygments_lexer": "ipython3",
   "version": "3.13.0"
  }
 },
 "nbformat": 4,
 "nbformat_minor": 2
}
