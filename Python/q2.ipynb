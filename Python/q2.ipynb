{
 "cells": [
  {
   "cell_type": "code",
   "execution_count": 19,
   "metadata": {},
   "outputs": [
    {
     "name": "stdout",
     "output_type": "stream",
     "text": [
      "['X', 0, 0, 0, 0, 0, 0, 0, 0, 'X']\n",
      "[0, 'X', 0, 0, 0, 0, 0, 0, 'X', 0]\n",
      "[0, 0, 'X', 0, 0, 0, 0, 'X', 0, 0]\n",
      "[0, 0, 0, 'X', 0, 0, 'X', 0, 0, 0]\n",
      "[0, 0, 0, 0, 'X', 'X', 0, 0, 0, 0]\n",
      "[0, 0, 0, 0, 'X', 'X', 0, 0, 0, 0]\n",
      "[0, 0, 0, 'X', 0, 0, 'X', 0, 0, 0]\n",
      "[0, 0, 'X', 0, 0, 0, 0, 'X', 0, 0]\n",
      "[0, 'X', 0, 0, 0, 0, 0, 0, 'X', 0]\n",
      "['X', 0, 0, 0, 0, 0, 0, 0, 0, 'X']\n"
     ]
    }
   ],
   "source": [
    "# a = [[0] * 10 for _ in range(10)]\n",
    "\n",
    "# a[0][0] = \"X\"\n",
    "# a[0][9] = \"X\"\n",
    "# a[1][1] = \"X\"\n",
    "# a[1][8] = \"X\"\n",
    "# a[2][2] = \"X\"\n",
    "# a[2][7] = \"X\"\n",
    "# a[3][3] = \"X\"\n",
    "# a[3][6] = \"X\"\n",
    "# a[4][4] = \"X\"\n",
    "# a[4][5] = \"X\"\n",
    "# a[5][4] = \"X\"\n",
    "# a[5][5] = \"X\"\n",
    "# a[6][6] = \"X\"\n",
    "# a[6][3] = \"X\"\n",
    "# a[7][7] = \"X\"\n",
    "# a[7][2] = \"X\"\n",
    "# a[8][8] = \"X\"\n",
    "# a[8][1] = \"X\"\n",
    "# a[9][9] = \"X\"\n",
    "# a[9][0] = \"X\"\n",
    "\n",
    "# for i in range(10):\n",
    "#   print(a[i])\n",
    "\n",
    "a = [[0] * 10 for _ in range(10)]\n",
    "\n",
    "for i in range(10):\n",
    "    a[i][i] = \"X\"           # 왼쪽 위에서 오른쪽 아래로\n",
    "    a[i][9 - i] = \"X\"       # 오른쪽 위에서 왼쪽 아래로\n",
    "\n",
    "for b in a:\n",
    "    print(b)\n",
    "\n",
    "\n",
    "\n"
   ]
  }
 ],
 "metadata": {
  "kernelspec": {
   "display_name": "Python 3",
   "language": "python",
   "name": "python3"
  },
  "language_info": {
   "codemirror_mode": {
    "name": "ipython",
    "version": 3
   },
   "file_extension": ".py",
   "mimetype": "text/x-python",
   "name": "python",
   "nbconvert_exporter": "python",
   "pygments_lexer": "ipython3",
   "version": "3.13.0"
  }
 },
 "nbformat": 4,
 "nbformat_minor": 2
}
