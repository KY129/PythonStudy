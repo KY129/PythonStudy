{
 "cells": [
  {
   "cell_type": "code",
   "execution_count": null,
   "metadata": {},
   "outputs": [
    {
     "data": {
      "text/plain": [
       "75.3"
      ]
     },
     "execution_count": 60,
     "metadata": {},
     "output_type": "execute_result"
    }
   ],
   "source": [
    "# Q3. 아래의 1차원 배열의 값의 평균값을 구하시오.\n",
    "# arr1 = [80, 76, 63, 83, 99, 87, 100 ,42, 68, 55]\n",
    "\n",
    "# arr3 = [arr1[0] + arr1[1] + arr1[2] + arr1[3] + arr1[4] + arr1[5] + arr1[6] + arr1[7] + arr1[8] + arr1[9]]\n",
    "# arr4 = (arr3[0] / len(arr1))\n",
    "# arr4\n",
    "\n",
    "# 전체합 = sum(arr1)\n",
    "# 전체갯수 = len(arr1)\n",
    "# print(전체합, 전체갯수, 전체합/전체갯수)\n",
    "\n",
    "\n"
   ]
  },
  {
   "cell_type": "code",
   "execution_count": null,
   "metadata": {},
   "outputs": [
    {
     "data": {
      "text/plain": [
       "75.3"
      ]
     },
     "execution_count": 61,
     "metadata": {},
     "output_type": "execute_result"
    }
   ],
   "source": [
    "# def 평균값 (list):\n",
    "#     return sum(list) / len(list)\n",
    "# 평균값(arr1)"
   ]
  },
  {
   "cell_type": "code",
   "execution_count": null,
   "metadata": {},
   "outputs": [
    {
     "name": "stdout",
     "output_type": "stream",
     "text": [
      "['홍길동', 80]\n",
      "강감찬\n"
     ]
    }
   ],
   "source": [
    "# Q4. 아래의 2차원 배열의 표에서 가장 점수가 높은 학생을 구하시오.\n",
    "# arr2 = [\n",
    "#     [\"홍길동\", 80],\n",
    "#     [\"류관순\", 76],\n",
    "#     [\"강감찬\", 99],\n",
    "#     [\"이성계\", 87],\n",
    "#     [\"이황\", 68],\n",
    "# ]\n",
    "# arr2\n",
    "# 비교 = arr2[0]\n",
    "# print(비교)\n",
    "\n",
    "# for i in range(1,len(arr2)):\n",
    "#     # print(i, arr2[i])\n",
    "#     if 비교[1] < arr2[i][1]:\n",
    "#         비교 = arr2[i]\n",
    "\n",
    "# print(비교[0])\n"
   ]
  },
  {
   "cell_type": "code",
   "execution_count": null,
   "metadata": {},
   "outputs": [
    {
     "name": "stdout",
     "output_type": "stream",
     "text": [
      "[100, 99, 87, 83, 80, 76, 68, 63, 55, 42]\n"
     ]
    }
   ],
   "source": [
    "# Q5. 아래의 1차원 배열을 이용하여 버블 방식으로 정렬하시오.\n",
    "# arr5 = [80, 76, 63, 83, 99, 87, 100 ,42, 68, 55]\n",
    "\n",
    "# for i in range(len(arr5)): # 전체 회전 0, 1, 2, ... 9\n",
    "#     for j in range(len(arr5) -1 - i):\n",
    "#         if arr5[j] < arr5[j + 1]:\n",
    "#             잠시담아둘게요 = arr5[j]\n",
    "#             arr5[j] = arr5[j + 1]\n",
    "#             arr5[j + 1] = 잠시담아둘게요\n",
    "# print(arr5)\n",
    "\n",
    "\n",
    "# arr5.sort()\n",
    "# arr5\n"
   ]
  },
  {
   "cell_type": "code",
   "execution_count": 267,
   "metadata": {},
   "outputs": [
    {
     "name": "stdout",
     "output_type": "stream",
     "text": [
      "평균 :  83.4\n",
      "가장 점수가 높은 학생 :  B 93\n",
      "가장 점수가 낮은 학생 :  C 75\n"
     ]
    }
   ],
   "source": [
    "# Q6. 옆사람과 서로 다른 문제를 만들고 풀어 보기 (시간: 11: 47 ~ 12:00 각자 문제 만들고 12:01 ~ 13:00 풀고 13:01 코드 리뷰)\n",
    "# 아래의 2차원 배열의 표에서 점수 평균을 구하시고, 가장 점수가 높은 학생과 가장 점수가 낮은 학생을 구하시오.\n",
    "\n",
    "arr = [\n",
    "    [\"A\", 79],\n",
    "    [\"B\", 93],\n",
    "    [\"C\", 75],\n",
    "    [\"D\", 89],\n",
    "    [\"E\", 81],\n",
    "]\n",
    "\n",
    "A1 = arr[0][1] + arr[1][1] + arr[2][1] + arr[3][1] + arr[4][1]\n",
    "A2 = A1 / len(arr)\n",
    "print(\"평균 : \", A2)\n",
    "\n",
    "A3 = arr[0][1]\n",
    "A4 = arr[0][0]\n",
    "for i in range(len(arr)):\n",
    "    if A3 < arr[i][1]:\n",
    "        A3 = arr[i][1]\n",
    "        A4 = arr[i][0]\n",
    "print(\"가장 점수가 높은 학생 : \", A4, A3)\n",
    "\n",
    "A5 = arr[0][1]\n",
    "A6 = arr[0][0]\n",
    "for i in range(len(arr)):\n",
    "    if A5 > arr[i][1]:\n",
    "        A5 = arr[i][1]\n",
    "        A6 = arr[i][0]\n",
    "print(\"가장 점수가 낮은 학생 : \", A6, A5)\n"
   ]
  },
  {
   "cell_type": "code",
   "execution_count": 216,
   "metadata": {},
   "outputs": [
    {
     "name": "stdout",
     "output_type": "stream",
     "text": [
      "홀수 :  [1, 3, 5, 7, 9]\n",
      "짝수 :  [2, 4, 6, 8, 10]\n"
     ]
    }
   ],
   "source": [
    "# (김동규님의 문제) 1~10 까지의 수를 홀수와 짝수로 구분 하시오\n",
    "\n",
    "A = [1, 2, 3, 4, 5, 6, 7, 8, 9, 10]\n",
    "\n",
    "홀수 = []\n",
    "짝수 = []\n",
    "\n",
    "for i in A:\n",
    "    if i % 2 == 0:\n",
    "        짝수.append(i)\n",
    "    else:\n",
    "        홀수.append(i)\n",
    "\n",
    "print(\"홀수 : \", 홀수)\n",
    "print(\"짝수 : \", 짝수)\n"
   ]
  },
  {
   "cell_type": "code",
   "execution_count": 249,
   "metadata": {},
   "outputs": [
    {
     "name": "stdout",
     "output_type": "stream",
     "text": [
      "1 x 1 = 1\n",
      "1 x 2 = 2\n",
      "1 x 3 = 3\n",
      "1 x 4 = 4\n",
      "1 x 5 = 5\n",
      "1 x 6 = 6\n",
      "1 x 7 = 7\n",
      "1 x 8 = 8\n",
      "1 x 9 = 9\n",
      "\n",
      "4 x 1 = 4\n",
      "4 x 2 = 8\n",
      "4 x 3 = 12\n",
      "4 x 4 = 16\n",
      "4 x 5 = 20\n",
      "4 x 6 = 24\n",
      "4 x 7 = 28\n",
      "4 x 8 = 32\n",
      "4 x 9 = 36\n",
      "\n",
      "3 x 1 = 3\n",
      "3 x 2 = 6\n",
      "3 x 3 = 9\n",
      "3 x 4 = 12\n",
      "3 x 5 = 15\n",
      "3 x 6 = 18\n",
      "3 x 7 = 21\n",
      "3 x 8 = 24\n",
      "3 x 9 = 27\n",
      "\n",
      "2 x 1 = 2\n",
      "2 x 2 = 4\n",
      "2 x 3 = 6\n",
      "2 x 4 = 8\n",
      "2 x 5 = 10\n",
      "2 x 6 = 12\n",
      "2 x 7 = 14\n",
      "2 x 8 = 16\n",
      "2 x 9 = 18\n",
      "\n",
      "7 x 1 = 7\n",
      "7 x 2 = 14\n",
      "7 x 3 = 21\n",
      "7 x 4 = 28\n",
      "7 x 5 = 35\n",
      "7 x 6 = 42\n",
      "7 x 7 = 49\n",
      "7 x 8 = 56\n",
      "7 x 9 = 63\n",
      "\n",
      "6 x 1 = 6\n",
      "6 x 2 = 12\n",
      "6 x 3 = 18\n",
      "6 x 4 = 24\n",
      "6 x 5 = 30\n",
      "6 x 6 = 36\n",
      "6 x 7 = 42\n",
      "6 x 8 = 48\n",
      "6 x 9 = 54\n",
      "\n",
      "8 x 1 = 8\n",
      "8 x 2 = 16\n",
      "8 x 3 = 24\n",
      "8 x 4 = 32\n",
      "8 x 5 = 40\n",
      "8 x 6 = 48\n",
      "8 x 7 = 56\n",
      "8 x 8 = 64\n",
      "8 x 9 = 72\n",
      "\n",
      "5 x 1 = 5\n",
      "5 x 2 = 10\n",
      "5 x 3 = 15\n",
      "5 x 4 = 20\n",
      "5 x 5 = 25\n",
      "5 x 6 = 30\n",
      "5 x 7 = 35\n",
      "5 x 8 = 40\n",
      "5 x 9 = 45\n",
      "\n",
      "9 x 1 = 9\n",
      "9 x 2 = 18\n",
      "9 x 3 = 27\n",
      "9 x 4 = 36\n",
      "9 x 5 = 45\n",
      "9 x 6 = 54\n",
      "9 x 7 = 63\n",
      "9 x 8 = 72\n",
      "9 x 9 = 81\n",
      "\n"
     ]
    }
   ],
   "source": [
    "# (이지현님의 문제) 아래 배열을 사용하여 구구단을 출력하시오.\n",
    "\n",
    "arr = [1, 4, 3, 2, 7, 6, 8, 5, 9]\n",
    "\n",
    "for i in arr:\n",
    "    for j in range(1, 10):\n",
    "        print(i, \"x\", j, \"=\", i * j)\n",
    "    print()"
   ]
  },
  {
   "cell_type": "code",
   "execution_count": 285,
   "metadata": {},
   "outputs": [
    {
     "name": "stdout",
     "output_type": "stream",
     "text": [
      "[['철수', 90], ['민수', 80], ['민지', 67], ['영철', 45], ['영희', 25]]\n"
     ]
    }
   ],
   "source": [
    "# (임지은님의 문제) 아래 친구들의 성적 배열을 보고 고득점 순으로 배열을 정렬하세요.\n",
    "\n",
    "성적 = [['철수',90], ['영희', 25], ['민지',67], ['영철',45], ['민수',80]]\n",
    "\n",
    "for i in range(len(성적)):\n",
    "    for j in range(len(성적) -1 -i):\n",
    "        if 성적[j][1] < 성적[j + 1][1]:\n",
    "            aaa = 성적[j + 1]\n",
    "            성적[j + 1] = 성적[j]\n",
    "            성적[j] = aaa\n",
    "print(성적)\n",
    "\n",
    "# 성적1.append(성적[0][1])\n",
    "# 성적1.append(성적[1][1])\n",
    "# 성적1.append(성적[2][1])\n",
    "# 성적1.append(성적[3][1])\n",
    "# 성적1.append(성적[4][1])\n",
    "\n",
    "# 성적1.sort(reverse=True)\n",
    "\n",
    "# 성적1\n",
    "\n",
    "\n",
    "\n",
    "# for i in range(len(arr5)): # 전체 회전 0, 1, 2, ... 9\n",
    "#     for j in range(len(arr5) -1 - i):\n",
    "#         if arr5[j] < arr5[j + 1]:\n",
    "#             잠시담아둘게요 = arr5[j]\n",
    "#             arr5[j] = arr5[j + 1]\n",
    "#             arr5[j + 1] = 잠시담아둘게요\n",
    "# print(arr5)\n"
   ]
  },
  {
   "cell_type": "code",
   "execution_count": 266,
   "metadata": {},
   "outputs": [
    {
     "name": "stdout",
     "output_type": "stream",
     "text": [
      "홀수 :  [87, 35, 15, 79, 55, 47, 47, 5]\n",
      "짝수 :  [18, 44, 24, 12, 98]\n",
      "홀수 :  [5, 15, 35, 47, 47, 55, 79, 87]\n",
      "짝수 :  [12, 18, 24, 44, 98]\n",
      "홀수 평균값 :  46.25\n",
      "짝수 평균값 :  39.2\n"
     ]
    }
   ],
   "source": [
    "# (함효신님의 문제) 아래 배열에서 홀수와 짝수를 따로 반환해 각 배열을 오름차순 정렬하여 출력한 뒤, 각 배열의 평균값을 구하시오.\n",
    "\n",
    "arr = [18,44,87,35,15,24,79,12,55,47,47,98,5]\n",
    "\n",
    "홀수 = []\n",
    "짝수 = []\n",
    "\n",
    "for i in arr:\n",
    "    if i % 2 == 0:\n",
    "        짝수.append(i)\n",
    "    else:\n",
    "        홀수.append(i)\n",
    "\n",
    "print(\"홀수 : \", 홀수)\n",
    "print(\"짝수 : \", 짝수)\n",
    "\n",
    "홀수.sort()\n",
    "짝수.sort()\n",
    "\n",
    "print(\"홀수 : \", 홀수)\n",
    "print(\"짝수 : \", 짝수)\n",
    "\n",
    "def 평균값 (list):\n",
    "    return sum(list) / len(list)\n",
    "\n",
    "print(\"홀수 평균값 : \", 평균값(홀수))\n",
    "print(\"짝수 평균값 : \", 평균값(짝수))\n"
   ]
  },
  {
   "cell_type": "code",
   "execution_count": 256,
   "metadata": {},
   "outputs": [
    {
     "name": "stdout",
     "output_type": "stream",
     "text": [
      "82.0\n",
      "[['강감찬', 99], ['이성계', 87]]\n"
     ]
    }
   ],
   "source": [
    "# (곽성일님의 문제) 아래의 2차원 배열의 표에서 평균 값을 구한 후 평균 값 이상인 학생만 구하시오.\n",
    "arr = [\n",
    "    [\"홍길동\", 80],\n",
    "    [\"류관순\", 76],\n",
    "    [\"강감찬\", 99],\n",
    "    [\"이성계\", 87],\n",
    "    [\"이황\", 68]\n",
    "]\n",
    "\n",
    "배열 = []\n",
    "합계 = 0\n",
    "for r in arr:\n",
    "    합계 += r[1]\n",
    "\n",
    "평균 = 합계 / len(arr)\n",
    "print(합계 / len(arr))\n",
    "\n",
    "for r in arr:\n",
    "    if 평균 < r[1]:\n",
    "        배열.append(r)\n",
    "\n",
    "print(배열)\n"
   ]
  },
  {
   "cell_type": "code",
   "execution_count": 258,
   "metadata": {},
   "outputs": [
    {
     "data": {
      "text/plain": [
       "['감자칩', '새우깡', '도리토스', '건전지', '양말']"
      ]
     },
     "execution_count": 258,
     "metadata": {},
     "output_type": "execute_result"
    }
   ],
   "source": [
    "# (강승우님의 문제) myString을 myArray리스트에 각각 잘라서 넣으시오.\n",
    "\n",
    "myString = \"감자칩/새우깡/도리토스/건전지/양말\"\n",
    "arr = myString.split(\"/\")\n",
    "arr"
   ]
  },
  {
   "cell_type": "code",
   "execution_count": 261,
   "metadata": {},
   "outputs": [
    {
     "name": "stdout",
     "output_type": "stream",
     "text": [
      "['charlie', 'foxtrot']\n"
     ]
    }
   ],
   "source": [
    "# (선우님의 문제) 다음 소스 코드를 완성하여 리스트 a에 들어있는 문자열 중에서 길이가 7인 것들만 리스트 형태로 출력되게 만드세요(리스트 표현식 사용).\n",
    "\n",
    "\n",
    "a = ['alpha', 'bravo', 'charlie', 'delta', 'echo', 'foxtrot', 'golf', 'hotel', 'india']\n",
    "b = []\n",
    "\n",
    "for txt in a:\n",
    "    if len(txt) == 7:\n",
    "        b.append(txt)\n",
    "print(b)"
   ]
  }
 ],
 "metadata": {
  "kernelspec": {
   "display_name": "Python 3",
   "language": "python",
   "name": "python3"
  },
  "language_info": {
   "codemirror_mode": {
    "name": "ipython",
    "version": 3
   },
   "file_extension": ".py",
   "mimetype": "text/x-python",
   "name": "python",
   "nbconvert_exporter": "python",
   "pygments_lexer": "ipython3",
   "version": "3.13.0"
  }
 },
 "nbformat": 4,
 "nbformat_minor": 2
}
