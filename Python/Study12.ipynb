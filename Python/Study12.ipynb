{
 "cells": [
  {
   "cell_type": "code",
   "execution_count": 22,
   "metadata": {},
   "outputs": [
    {
     "data": {
      "text/plain": [
       "[1, [], 3, 4]"
      ]
     },
     "execution_count": 22,
     "metadata": {},
     "output_type": "execute_result"
    }
   ],
   "source": [
    "# 리스트 : 배열, 값을 변경 가능, 삭제 가능, 값 추가 가능\n",
    "# 튜플 : 배열, 값을 한번 넣으면 변경 불가능(상수), 삭제 불가능, 값 추가 불가능\n",
    "\n",
    "a = [1,2,3,4] # 리스트\n",
    "b = (1,2,3,4) # 튜플\n",
    "\n",
    "a[1] = 5\n",
    "a\n",
    "# b[1] = 5\n",
    "# b\n",
    "b[1]\n",
    "\n",
    "a[1] = [1]\n",
    "a[1][0] = 5\n",
    "a[1]\n",
    "\n",
    "del a[1][0]\n",
    "a"
   ]
  },
  {
   "cell_type": "code",
   "execution_count": 43,
   "metadata": {},
   "outputs": [
    {
     "data": {
      "text/plain": [
       "['', '', '', '', '', '', '', '', '', '']"
      ]
     },
     "execution_count": 43,
     "metadata": {},
     "output_type": "execute_result"
    }
   ],
   "source": [
    "a = []\n",
    "for i in range(10):\n",
    "    a.append(\"\")    \n",
    "len(a)\n",
    "a"
   ]
  },
  {
   "cell_type": "code",
   "execution_count": 44,
   "metadata": {},
   "outputs": [
    {
     "data": {
      "text/plain": [
       "['', 'B', '', '', '', '', '', '', '', '']"
      ]
     },
     "execution_count": 44,
     "metadata": {},
     "output_type": "execute_result"
    }
   ],
   "source": [
    "a = [\"\"] * 10\n",
    "len(a)\n",
    "a[1] = \"B\"\n",
    "a"
   ]
  },
  {
   "cell_type": "code",
   "execution_count": 48,
   "metadata": {},
   "outputs": [
    {
     "data": {
      "text/plain": [
       "[['', 'B', '', '', '', '', '', '', '', ''],\n",
       " ['', 'B', '', '', '', '', '', '', '', ''],\n",
       " ['', 'B', '', '', '', '', '', '', '', ''],\n",
       " ['', 'B', '', '', '', '', '', '', '', ''],\n",
       " ['', 'B', '', '', '', '', '', '', '', ''],\n",
       " ['', 'B', '', '', '', '', '', '', '', ''],\n",
       " ['', 'B', '', '', '', '', '', '', '', ''],\n",
       " ['', 'B', '', '', '', '', '', '', '', ''],\n",
       " ['', 'B', '', '', '', '', '', '', '', ''],\n",
       " ['', 'B', '', '', '', '', '', '', '', '']]"
      ]
     },
     "execution_count": 48,
     "metadata": {},
     "output_type": "execute_result"
    }
   ],
   "source": [
    "a =  [[\"\"] * 10] * 10\n",
    "a[1][1] = \"B\"\n",
    "a"
   ]
  },
  {
   "cell_type": "code",
   "execution_count": 53,
   "metadata": {},
   "outputs": [
    {
     "data": {
      "text/plain": [
       "[['', '', '', '', '', '', '', '', '', ''],\n",
       " ['', '', '', '', '', '', '', '', '', ''],\n",
       " ['', '', '', '', '', '', '', '', '', ''],\n",
       " ['', '', '', '', '', '', 'C', '', '', ''],\n",
       " ['', '', '', '', '', '', '', '', '', ''],\n",
       " ['', '', '', '', '', '', '', '', '', ''],\n",
       " ['', '', '', '', '', '', '', '', '', ''],\n",
       " ['', '', '', '', '', '', '', '', '', ''],\n",
       " ['', '', '', '', '', '', '', '', '', ''],\n",
       " ['', '', '', '', '', '', '', '', '', '']]"
      ]
     },
     "execution_count": 53,
     "metadata": {},
     "output_type": "execute_result"
    }
   ],
   "source": [
    "a = [[\"\"] * 10 for i in range(10)]\n",
    "a[3][6] = \"C\"\n",
    "a"
   ]
  },
  {
   "cell_type": "code",
   "execution_count": 58,
   "metadata": {},
   "outputs": [
    {
     "name": "stdout",
     "output_type": "stream",
     "text": [
      "1\n",
      "2\n",
      "메롱\n",
      "4\n",
      "5\n",
      "6\n",
      "7\n",
      "8\n",
      "9\n"
     ]
    }
   ],
   "source": [
    "a = [1,2,3,4,5,6,7,8,9]\n",
    "\n",
    "for i in a:\n",
    "    print(\"메롱\" if i == 3 else i)\n"
   ]
  },
  {
   "cell_type": "code",
   "execution_count": 60,
   "metadata": {},
   "outputs": [
    {
     "data": {
      "text/plain": [
       "2"
      ]
     },
     "execution_count": 60,
     "metadata": {},
     "output_type": "execute_result"
    }
   ],
   "source": [
    "a = int( input(a) )\n",
    "a"
   ]
  },
  {
   "cell_type": "code",
   "execution_count": 63,
   "metadata": {},
   "outputs": [
    {
     "name": "stdout",
     "output_type": "stream",
     "text": [
      "ㅎㅇㅎㅇ\n"
     ]
    }
   ],
   "source": [
    "while 1:\n",
    "    print(\"ㅎㅇㅎㅇ\")\n",
    "    a = input()\n",
    "    if a.upper() == \"EXIT\":\n",
    "        break"
   ]
  }
 ],
 "metadata": {
  "kernelspec": {
   "display_name": "Python 3",
   "language": "python",
   "name": "python3"
  },
  "language_info": {
   "codemirror_mode": {
    "name": "ipython",
    "version": 3
   },
   "file_extension": ".py",
   "mimetype": "text/x-python",
   "name": "python",
   "nbconvert_exporter": "python",
   "pygments_lexer": "ipython3",
   "version": "3.13.0"
  }
 },
 "nbformat": 4,
 "nbformat_minor": 2
}
